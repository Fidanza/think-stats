{
 "cells": [
  {
   "cell_type": "code",
   "execution_count": 2,
   "metadata": {
    "collapsed": true
   },
   "outputs": [],
   "source": [
    "%matplotlib inline\n",
    "\n",
    "import os.path\n",
    "\n",
    "import matplotlib\n",
    "import matplotlib.pyplot as plt\n",
    "import numpy as np\n",
    "\n",
    "import descriptive\n",
    "DATA_DIR = os.path.join(os.path.dirname(descriptive.__file__), '..')"
   ]
  },
  {
   "cell_type": "markdown",
   "metadata": {},
   "source": [
    "# 2.1"
   ]
  },
  {
   "cell_type": "code",
   "execution_count": 13,
   "metadata": {
    "collapsed": false
   },
   "outputs": [
    {
     "name": "stdout",
     "output_type": "stream",
     "text": [
      "Mean: 100.00\n",
      "Variance: 48217.00\n",
      "Standard deviation: 219.58\n"
     ]
    }
   ],
   "source": [
    "from __future__ import division\n",
    "\n",
    "def describe_pumpkins(weights):\n",
    "    mean = sum(weights) / len(weights)\n",
    "    variance = sum((w - mean)**2 for w in weights) / len(weights)\n",
    "    stdev = variance ** 0.5\n",
    "    return mean, variance, stdev\n",
    "\n",
    "weights = [1, 1, 1, 3, 3, 591]\n",
    "mean, variance, stdev = describe_pumpkins(weights)\n",
    "\n",
    "print 'Mean: %.2f' % mean\n",
    "print 'Variance: %.2f' % variance\n",
    "print 'Standard deviation: %.2f' % stdev\n"
   ]
  },
  {
   "cell_type": "markdown",
   "metadata": {},
   "source": [
    "# 2.2"
   ]
  },
  {
   "cell_type": "code",
   "execution_count": 32,
   "metadata": {
    "collapsed": false
   },
   "outputs": [
    {
     "name": "stdout",
     "output_type": "stream",
     "text": [
      "{'firsts': DescStats(mean=38.60095173351461, variance=7.792947202066306, stdev=2.7915850698243654),\n",
      " 'others': DescStats(mean=38.52291446673706, variance=6.84123839078341, stdev=2.6155761106844913)}\n",
      "Mean diff: 0.20%\n",
      "stdev diff: 6.73%\n"
     ]
    }
   ],
   "source": [
    "from collections import namedtuple\n",
    "import pprint\n",
    "\n",
    "from first import MakeTables\n",
    "\n",
    "DescStats = namedtuple('DescStats', ('mean', 'variance', 'stdev'))\n",
    "\n",
    "def describe(values):\n",
    "    mean = sum(values) / len(values)\n",
    "    variance = sum((v - mean)**2 for v in values) / len(values)\n",
    "    stdev = variance ** 0.5\n",
    "    return DescStats(mean, variance, stdev)\n",
    "\n",
    "def prglengths(table):\n",
    "    return [p.prglength for p in table.records]\n",
    "\n",
    "full_table, firsts, others = MakeTables(DATA_DIR)\n",
    "\n",
    "results = {\n",
    "    'firsts': describe(prglengths(firsts)),\n",
    "    'others': describe(prglengths(others)),\n",
    "}\n",
    "pprint.pprint(results)\n",
    "\n",
    "print 'Mean diff: %.2f%%' % \\\n",
    "    (\n",
    "        (results['firsts'].mean - results['others'].mean) /\n",
    "        results['others'].mean * 100\n",
    "    )\n",
    "print 'stdev diff: %.2f%%' % \\\n",
    "    (\n",
    "        (results['firsts'].stdev - results['others'].stdev) /\n",
    "        results['others'].stdev * 100\n",
    "    )\n",
    "\n"
   ]
  },
  {
   "cell_type": "markdown",
   "metadata": {},
   "source": [
    "... looks like stdev is more likely to have a statistically significant difference"
   ]
  },
  {
   "cell_type": "code",
   "execution_count": 43,
   "metadata": {
    "collapsed": false
   },
   "outputs": [
    {
     "name": "stdout",
     "output_type": "stream",
     "text": [
      "[2]\n",
      "[1, 3]\n"
     ]
    }
   ],
   "source": [
    "import Pmf\n",
    "\n",
    "\n",
    "def hist_all_modes(hist):\n",
    "    max_count = 0\n",
    "    modes = []\n",
    "    for value, count in hist.GetDict().iteritems():\n",
    "        if count > max_count:\n",
    "            modes[:] = [value]\n",
    "            max_count = count\n",
    "        elif count == max_count:\n",
    "            modes.append(value)\n",
    "    \n",
    "    return modes\n",
    "\n",
    "\n",
    "def all_modes(values):\n",
    "    return hist_all_modes(Pmf.MakeHistFromList(values))\n",
    "\n",
    "\n",
    "print all_modes([1, 2, 2, 3, 5])\n",
    "print all_modes([1, 1, 1, 2, 2, 3, 3, 3, 4])"
   ]
  },
  {
   "cell_type": "markdown",
   "metadata": {},
   "source": [
    "## 2.4"
   ]
  },
  {
   "cell_type": "code",
   "execution_count": null,
   "metadata": {
    "collapsed": true
   },
   "outputs": [],
   "source": []
  }
 ],
 "metadata": {
  "kernelspec": {
   "display_name": "Python 2",
   "language": "python",
   "name": "python2"
  },
  "language_info": {
   "codemirror_mode": {
    "name": "ipython",
    "version": 2
   },
   "file_extension": ".py",
   "mimetype": "text/x-python",
   "name": "python",
   "nbconvert_exporter": "python",
   "pygments_lexer": "ipython2",
   "version": "2.7.6"
  }
 },
 "nbformat": 4,
 "nbformat_minor": 0
}
